{
  "nbformat": 4,
  "nbformat_minor": 0,
  "metadata": {
    "colab": {
      "name": "CS490_download_datasets.ipynb",
      "provenance": [],
      "authorship_tag": "ABX9TyNFtj6pMHBVuPSav9YHTrDd",
      "include_colab_link": true
    },
    "kernelspec": {
      "name": "python3",
      "display_name": "Python 3"
    },
    "language_info": {
      "name": "python"
    }
  },
  "cells": [
    {
      "cell_type": "markdown",
      "metadata": {
        "id": "view-in-github",
        "colab_type": "text"
      },
      "source": [
        "<a href=\"https://colab.research.google.com/github/arnisafazla/CS490/blob/main/CS490_download_datasets.ipynb\" target=\"_parent\"><img src=\"https://colab.research.google.com/assets/colab-badge.svg\" alt=\"Open In Colab\"/></a>"
      ]
    },
    {
      "cell_type": "code",
      "metadata": {
        "id": "J7tQBTv0FngF"
      },
      "source": [
        "# take json file and get the list elements\n",
        "import requests\n",
        "from bs4 import BeautifulSoup\n",
        "import re"
      ],
      "execution_count": null,
      "outputs": []
    },
    {
      "cell_type": "code",
      "metadata": {
        "colab": {
          "base_uri": "https://localhost:8080/"
        },
        "id": "cfmEimGKSY_1",
        "outputId": "c3315af6-87c9-4b10-e162-5024968beb1b"
      },
      "source": [
        "from google.colab import drive\n",
        "drive.mount('/content/drive')\n",
        "import sys\n",
        "sys.path.insert(0, '/content/drive/My Drive/CS490/dataset/pride')"
      ],
      "execution_count": 94,
      "outputs": [
        {
          "output_type": "stream",
          "name": "stdout",
          "text": [
            "Drive already mounted at /content/drive; to attempt to forcibly remount, call drive.mount(\"/content/drive\", force_remount=True).\n"
          ]
        }
      ]
    },
    {
      "cell_type": "code",
      "metadata": {
        "id": "qQmK5pKaGf17"
      },
      "source": [
        "# enter already filtered url\n",
        "URL = \"http://ebmdb.tuebingen.mpg.de/index.php?set_filters=Search&filter_intended_emotion=pride&filter_intended_polarity=&filter_modal_category=&filter_modal_polarity=&filter_accurate_category=one&filter_accurate_polarity=one&filter_acting_task=&filter_acting_subtask=&filter_actor=&filter_gender=&filter_handedness=&filter_native_tongue=&filter_responses=&filter_text=\""
      ],
      "execution_count": 97,
      "outputs": []
    },
    {
      "cell_type": "code",
      "metadata": {
        "colab": {
          "base_uri": "https://localhost:8080/"
        },
        "id": "i1vddOJbGq61",
        "outputId": "ea03a779-e15d-40c8-dd78-9f968d5489d6"
      },
      "source": [
        "r = requests.get(URL)\n",
        "# print(r.content)\n",
        "soup = BeautifulSoup(r.content, 'html5lib')\n",
        "table = soup.find('table', attrs = {'id':'motion_table'})\n",
        "i = 0\n",
        "link = 'http://ebmdb.tuebingen.mpg.de/'\n",
        "for row in table.findAll('tr'):\n",
        "  link_tds = row.findAll('td', attrs = {'id':'td_download_links'})\n",
        "  if link_tds != []:\n",
        "    i += 1\n",
        "    explanation = row.findAll('td')[-1].string\n",
        "    title = str(i) + (make_titles(explanation))\n",
        "    if len(title) > 50:\n",
        "      title = title[0:50]\n",
        "    title = title + '.bvh'\n",
        "    #print(link_tds[0])\n",
        "    for a in link_tds[0].find_all('a', href=True):\n",
        "      bvh1 = a['href']\n",
        "      bvh2 = link + bvh1[2:]\n",
        "      if 'bvh' in bvh2:\n",
        "        resp = requests.get(bvh2)\n",
        "        with open( title, \"wb\" ) as file :\n",
        "          file.write( resp.content )\n",
        "        ! mv $title '/content/drive/My Drive/CS490/dataset/pride'\n",
        "        print(title)"
      ],
      "execution_count": 99,
      "outputs": [
        {
          "output_type": "stream",
          "name": "stdout",
          "text": [
            "1_to_obey_her_royal_lord_and_master.bvh\n",
            "2_that_they_overtook_him_before_he_could.bvh\n",
            "3_I_am_the_strongest_person_in_the_world_I_can_kil.bvh\n",
            "4_but_if_you_wish_to_enter_my_service_you_must_fir.bvh\n",
            "5_and_this_I_will_help_you_to_do_.bvh\n",
            "6_and_told_his_father_that_he_meant_to_set_the_dau.bvh\n",
            "7_of_the_beauty_and_kindness_of_the_Dragon_s_Mothe.bvh\n",
            "8_You_are_looking_for_the_Mother_Dragon_s_mare_who.bvh\n",
            "9_Whatever_I_give_to_you_I_deprive_myself_of_.bvh\n",
            "10_I_have_eaten_and_I_have_drunk_for_you_and_now_I.bvh\n",
            "11_Will_you_marry_me_.bvh\n",
            "12_I_am_the_Emperor_s_daughter_.bvh\n",
            "13_The_White_Knight_has_won_the_tournament_and_was.bvh\n",
            "14_You_sit_alone_in_your_room_and_do_an_online_IQ_.bvh\n",
            "15_If_they_are_both_there_why_should_not_I_be_ther.bvh\n",
            "16_You_sit_alone_in_your_room_and_do_an_online_IQ_.bvh\n",
            "17_a_great_and_powerful_King_married_a_lovely_Prin.bvh\n",
            "18_The_White_Knight_has_won_the_tournament_and_was.bvh\n",
            "19_You_sit_alone_in_your_room_and_do_an_online_IQ_.bvh\n",
            "20_You_have_a_heated_discussion_with_a_good_friend.bvh\n",
            "21_The_White_Knight_has_won_the_tournament_and_was.bvh\n",
            "22_and_the_King_of_the_Eagles_sank_at_his_feet_I_k.bvh\n",
            "23_I_have_heard_so_much_of_the_beauty_and_kindness.bvh\n",
            "24_I_am_the_strongest_person_in_the_world_I_can_ki.bvh\n"
          ]
        }
      ]
    },
    {
      "cell_type": "code",
      "metadata": {
        "id": "9nnkPYNIIBx6"
      },
      "source": [
        "def remove_html_tags(text):\n",
        "  \"\"\"Remove html tags from a string\"\"\"\n",
        "  clean = re.compile('<.*?>')\n",
        "  return re.sub(clean, '', text)"
      ],
      "execution_count": 63,
      "outputs": []
    },
    {
      "cell_type": "code",
      "metadata": {
        "id": "H55ykIgxLXmI"
      },
      "source": [
        "def make_titles(text):\n",
        "  \"\"\"Remove punctuation, make it lowercase, replace space with underscore\"\"\"\n",
        "  clean = re.sub('[^\\w\\s]', '', text)\n",
        "  clean = re.sub('\\s+', '_', clean)\n",
        "  if clean[0] != '_':\n",
        "    clean = '_' + clean\n",
        "  return clean"
      ],
      "execution_count": 64,
      "outputs": []
    },
    {
      "cell_type": "code",
      "metadata": {
        "id": "NhEfBBAHbELA"
      },
      "source": [
        "! cp '/content/sample_data/README.md' '/content/drive/My Drive/CS490/dataset/pride'"
      ],
      "execution_count": 98,
      "outputs": []
    }
  ]
}